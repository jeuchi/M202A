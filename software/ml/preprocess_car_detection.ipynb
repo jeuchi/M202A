{
 "cells": [
  {
   "cell_type": "markdown",
   "id": "1e1596b1",
   "metadata": {},
   "source": [
    "# Training car detection model using YOLOv8"
   ]
  },
  {
   "cell_type": "code",
   "execution_count": 1,
   "metadata": {},
   "outputs": [],
   "source": [
    "import os.path\n",
    "import json\n",
    "import numpy as np\n",
    "import cv2\n",
    "from matplotlib import pyplot as plt\n",
    "import os\n",
    "import shutil\n",
    "import random\n",
    "from constants import LABEL_MAPPING"
   ]
  },
  {
   "cell_type": "markdown",
   "metadata": {},
   "source": [
    "### Utility to copy files"
   ]
  },
  {
   "cell_type": "code",
   "execution_count": 3,
   "metadata": {},
   "outputs": [],
   "source": [
    "k = 670\n",
    "\n",
    "for i in range(0, 15):\n",
    "    for j in range(0, 10):\n",
    "        shutil.copy(f'../../data/recordings/cross_yellow/{i}/videos/{j}.png', f'../../data/recordings/images/{k}.png')\n",
    "        k += 1"
   ]
  },
  {
   "cell_type": "code",
   "execution_count": 2,
   "metadata": {},
   "outputs": [],
   "source": [
    "def view_features(img_path, xtl, ytl, xbr, ybr, points):\n",
    "    img = cv2.imread(img_path)\n",
    "    w = xbr - xtl\n",
    "    h = ybr - ytl\n",
    "\n",
    "    cv2.rectangle(img, (xtl, ytl), (xbr, ybr), [255,0,0], 1)\n",
    "    cv2.circle(img,(w, h), 1, [255,0,0], -1)\n",
    "\n",
    "    visible_color = [0,255,0]\n",
    "    invisible_color = [0,0, 255]\n",
    "    for p in points:\n",
    "        x, y, visible = p \n",
    "        cv2.circle(img, (x, y), 1, visible_color if visible else invisible_color, -1)\n",
    "\n",
    "    cv2.imshow('Image', img) \n",
    "    cv2.waitKey(0) \n",
    "    cv2.destroyAllWindows() "
   ]
  },
  {
   "cell_type": "markdown",
   "metadata": {},
   "source": [
    "### Extract features from video annotations"
   ]
  },
  {
   "cell_type": "code",
   "execution_count": 4,
   "metadata": {},
   "outputs": [],
   "source": [
    "IMAGE_WIDTH = 1920\n",
    "IMAGE_HEIGHT = 1080\n",
    "\n",
    "# Opening JSON file\n",
    "f = open('../../data/cars/annotations.json')\n",
    " \n",
    "# returns JSON object as \n",
    "# a dictionary\n",
    "data = json.load(f)\n",
    "\n",
    "out_dir = '../../data/cars/labels/all'\n",
    "if not os.path.exists(out_dir):\n",
    "    os.makedirs(out_dir)\n",
    "\n",
    "temp = 0\n",
    "for item in data['items']:\n",
    "    label_file = open(os.path.join(out_dir, item['id'] + '.txt'), 'w')\n",
    "\n",
    "    sorted_annotations = sorted(item['annotations'], key=lambda x: x['label_id'])\n",
    "\n",
    "    xtl = int(sorted_annotations[0]['bbox'][0])\n",
    "    ytl = int(sorted_annotations[0]['bbox'][1])\n",
    "    w = int(sorted_annotations[0]['bbox'][2])\n",
    "    h = int(sorted_annotations[0]['bbox'][3])\n",
    "    xbr = xtl + w \n",
    "    ybr = ytl + h\n",
    "\n",
    "    label_file.write('0 {} {} {} {} '.format(str((xtl + (w / 2)) / IMAGE_WIDTH), str((ytl + (h / 2)) / IMAGE_HEIGHT),\n",
    "                                            str(w / IMAGE_WIDTH), str(h / IMAGE_HEIGHT)))\n",
    "    points = []\n",
    "    for i in range(1, 17):\n",
    "        px = int(sorted_annotations[i]['points'][0])\n",
    "        py = int(sorted_annotations[i]['points'][1])\n",
    "        visible = 0 if sorted_annotations[i]['attributes']['occluded'] == True else 2\n",
    "        # Switch append to view a specific feature using LABEL_MAPPING\n",
    "        points.append([px, py, visible])\n",
    "        #points.append([int(sorted_annotations[LABEL_MAPPING['front_right_tire_back']]['points'][0]), int(sorted_annotations[LABEL_MAPPING['front_right_tire_back']]['points'][1]), 2])\n",
    "\n",
    "    for p_, (px, py, visible) in enumerate(points):\n",
    "        label_file.write('{} {} {}'.format(px / IMAGE_WIDTH, py / IMAGE_HEIGHT, visible))\n",
    "        if p_ < len(points) - 1:\n",
    "            label_file.write(' ')\n",
    "        else:\n",
    "            label_file.write('\\n')\n",
    "\n",
    "    img_path = '../../data/cars/images/all/%s.png' % item['id']\n",
    "\n",
    "    if temp == 10:\n",
    "        view_features(img_path, xtl, ytl, xbr, ybr, points)\n",
    "\n",
    "    label_file.close()\n",
    "    temp += 1\n",
    "\n",
    "# Closing file\n",
    "f.close()"
   ]
  },
  {
   "cell_type": "markdown",
   "metadata": {},
   "source": [
    "### Fill in missing labels for empty images"
   ]
  },
  {
   "cell_type": "code",
   "execution_count": 20,
   "metadata": {},
   "outputs": [],
   "source": [
    "def fill_missing_labels(directory, start):\n",
    "    existing_numbers = set()\n",
    "\n",
    "    files = os.listdir(directory)\n",
    "    end = len(files) - 1\n",
    "    for filename in os.listdir(directory):\n",
    "        try:\n",
    "            file_number = int(filename.split('.')[0])\n",
    "            existing_numbers.add(file_number)\n",
    "        except ValueError:\n",
    "            pass  # Ignore files that do not match the expected naming pattern\n",
    "\n",
    "    missing_numbers = set(range(start, end + 1)) - existing_numbers\n",
    "    return sorted(missing_numbers)"
   ]
  },
  {
   "cell_type": "code",
   "execution_count": 21,
   "metadata": {},
   "outputs": [
    {
     "name": "stdout",
     "output_type": "stream",
     "text": [
      "[]\n"
     ]
    }
   ],
   "source": [
    "labels = fill_missing_labels('../../data/cars/labels/all', 0)\n",
    "print(labels)\n",
    "\n",
    "for number in labels:\n",
    "    label_file = open('../../data/cars/labels/all/%s.txt' % number, 'w')\n",
    "    label_file.write('0 0 0 0 0 0 0 0 0 0 0 0 0 0 0 0 0 0 0 0 0 0 0 0 0 0 0 0 0 0 0 0 0 0 0 0 0 0 0 0 0 0 0 0 0 0 0 0 0 0 0 0 0')\n",
    "    label_file.close()"
   ]
  },
  {
   "cell_type": "markdown",
   "metadata": {},
   "source": [
    "### Split validation data"
   ]
  },
  {
   "cell_type": "code",
   "execution_count": 17,
   "metadata": {},
   "outputs": [],
   "source": [
    "train_label_folder = '../../data/cars/images/train'\n",
    "train_image_folder = '../../data/cars/labels/train'\n",
    "val_label_folder = '../../data/cars/images/val'\n",
    "val_image_folder = '../../data/cars/labels/val'\n",
    "shutil.rmtree(train_label_folder, ignore_errors=True)\n",
    "shutil.rmtree(train_image_folder, ignore_errors=True)\n",
    "shutil.rmtree(val_label_folder, ignore_errors=True)\n",
    "shutil.rmtree(val_image_folder, ignore_errors=True)\n",
    "\n",
    "label_files = os.listdir('../../data/cars/labels/all')\n",
    "image_files = os.listdir('../../data/cars/images/all')\n",
    "\n",
    "assert(len(label_files) == len(image_files))\n",
    "\n",
    "os.makedirs(train_label_folder)\n",
    "os.makedirs(train_image_folder)\n",
    "os.makedirs(val_label_folder)\n",
    "os.makedirs(val_image_folder)\n",
    "\n",
    "random.shuffle(image_files)\n",
    "split_index = int(0.8 * len(image_files))\n",
    "\n",
    "train_files = []\n",
    "for i in range(0, split_index):\n",
    "    train_files.append(os.path.basename(image_files[i]).split('.')[0])\n",
    "\n",
    "for file in train_files:\n",
    "    shutil.copy(f'../../data/cars/images/all/{file}.png', f'../../data/cars/images/train')\n",
    "    shutil.copy(f'../../data/cars/labels/all/{file}.txt', f'../../data/cars/labels/train')\n",
    "\n",
    "val_files = []\n",
    "for i in range(split_index, len(image_files)):\n",
    "    val_files.append(os.path.basename(image_files[i]).split('.')[0])\n",
    "\n",
    "for file in val_files:\n",
    "    shutil.copy(f'../../data/cars/images/all/{file}.png', f'../../data/cars/images/val')\n",
    "    shutil.copy(f'../../data/cars/labels/all/{file}.txt', f'../../data/cars/labels/val')"
   ]
  }
 ],
 "metadata": {
  "kernelspec": {
   "display_name": "Python 3 (ipykernel)",
   "language": "python",
   "name": "python3"
  },
  "language_info": {
   "codemirror_mode": {
    "name": "ipython",
    "version": 3
   },
   "file_extension": ".py",
   "mimetype": "text/x-python",
   "name": "python",
   "nbconvert_exporter": "python",
   "pygments_lexer": "ipython3",
   "version": "3.11.6"
  }
 },
 "nbformat": 4,
 "nbformat_minor": 5
}
