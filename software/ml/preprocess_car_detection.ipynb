{
 "cells": [
  {
   "cell_type": "markdown",
   "id": "1e1596b1",
   "metadata": {},
   "source": [
    "# Training car detection model using YOLOv8"
   ]
  },
  {
   "cell_type": "code",
   "execution_count": 2,
   "metadata": {},
   "outputs": [],
   "source": [
    "import os.path\n",
    "import json\n",
    "import numpy as np\n",
    "import cv2\n",
    "from matplotlib import pyplot as plt\n",
    "import os\n",
    "import shutil\n",
    "import random"
   ]
  },
  {
   "cell_type": "code",
   "execution_count": 3,
   "metadata": {},
   "outputs": [],
   "source": [
    "LABEL_MAPPING = {\n",
    "    'car': 0,\n",
    "    'rear_bumper_left': 1,\n",
    "    'rear_bumper_center': 2,\n",
    "    'rear_bumper_right': 3,\n",
    "    'rear_right_tire_front': 4,\n",
    "    'rear_right_tire_back': 5,\n",
    "    'rear_left_tire_front': 6,\n",
    "    'rear_left_tire_back': 7,\n",
    "    'front_right_tire_front': 8,\n",
    "    'front_right_tire_back': 9,\n",
    "    'front_left_tire_front': 10,\n",
    "    'front_left_tire_back': 11,\n",
    "    'front_bumper_left': 12,\n",
    "    'front_bumper_center': 13,\n",
    "    'front_bumper_right': 14,\n",
    "    'driver_side_mirror': 15,\n",
    "    'passenger_side_mirror': 16,\n",
    "}"
   ]
  },
  {
   "cell_type": "code",
   "execution_count": 4,
   "metadata": {},
   "outputs": [],
   "source": [
    "def view_features(img_path, xtl, ytl, xbr, ybr, points):\n",
    "    img = cv2.imread(img_path)\n",
    "    w = xbr - xtl\n",
    "    h = ybr - ytl\n",
    "\n",
    "    cv2.rectangle(img, (xtl, ytl), (xtl+xbr, ytl+ybr), [255,0,0], 1)\n",
    "    cv2.circle(img,(w, h), 1, [255,0,0], -1)\n",
    "\n",
    "    visible_color = [0,255,0]\n",
    "    invisible_color = [0,0, 255]\n",
    "    for p in points:\n",
    "        x, y, visible = p \n",
    "        cv2.circle(img, (x, y), 1, visible_color if visible else invisible_color, -1)\n",
    "\n",
    "    cv2.imshow('Image', img) \n",
    "    cv2.waitKey(0) \n",
    "    cv2.destroyAllWindows() "
   ]
  },
  {
   "cell_type": "markdown",
   "metadata": {},
   "source": [
    "### Extract features from video annotations"
   ]
  },
  {
   "cell_type": "code",
   "execution_count": 9,
   "metadata": {},
   "outputs": [],
   "source": [
    "IMAGE_WIDTH = 1920\n",
    "IMAGE_HEIGHT = 1080\n",
    "\n",
    "# Opening JSON file\n",
    "f = open('../../data/cars/annotations.json')\n",
    " \n",
    "# returns JSON object as \n",
    "# a dictionary\n",
    "data = json.load(f)\n",
    "\n",
    "out_dir = '../../data/cars/labels/train'\n",
    "if not os.path.exists(out_dir):\n",
    "    os.makedirs(out_dir)\n",
    "\n",
    "temp = 0\n",
    "for item in data['items']:\n",
    "    label_file = open(os.path.join(out_dir, item['id'] + '.txt'), 'w')\n",
    "\n",
    "    sorted_annotations = sorted(item['annotations'], key=lambda x: x['label_id'])\n",
    "\n",
    "    xtl = int(sorted_annotations[0]['bbox'][0])\n",
    "    ytl = int(sorted_annotations[0]['bbox'][1])\n",
    "    xbr = int(sorted_annotations[0]['bbox'][2])\n",
    "    ybr = int(sorted_annotations[0]['bbox'][3])\n",
    "    w = xbr - xtl\n",
    "    h = ybr - ytl\n",
    "\n",
    "    label_file.write('0 {} {} {} {} '.format(str((xtl + (w / 2)) / IMAGE_WIDTH), str((ytl + (h / 2)) / IMAGE_HEIGHT),\n",
    "                                            str(w / IMAGE_WIDTH), str(h / IMAGE_HEIGHT)))\n",
    "    points = []\n",
    "    for i in range(1, 17):\n",
    "        px = int(sorted_annotations[i]['points'][0])\n",
    "        py = int(sorted_annotations[i]['points'][1])\n",
    "        visible = 0 if sorted_annotations[i]['attributes']['occluded'] == True else 2\n",
    "        # Switch append to view a specific feature using LABEL_MAPPING\n",
    "        points.append([px, py, visible])\n",
    "        #points.append([int(sorted_annotations[LABEL_MAPPING['front_right_tire_back']]['points'][0]), int(sorted_annotations[LABEL_MAPPING['front_right_tire_back']]['points'][1]), 2])\n",
    "\n",
    "    for p_, (px, py, visible) in enumerate(points):\n",
    "        label_file.write('{} {} {}'.format(px / IMAGE_WIDTH, py / IMAGE_HEIGHT, visible))\n",
    "        if p_ < len(points) - 1:\n",
    "            label_file.write(' ')\n",
    "        else:\n",
    "            label_file.write('\\n')\n",
    "\n",
    "    img_path = '../../data/cars/images/train/%s.png' % item['id']\n",
    "\n",
    "    if temp == 10:\n",
    "        view_features(img_path, xtl, ytl, xbr, ybr, points)\n",
    "\n",
    "    label_file.close()\n",
    "    if temp >= 10:\n",
    "        break\n",
    "    temp += 1\n",
    "\n",
    "# Closing file\n",
    "f.close()"
   ]
  },
  {
   "cell_type": "markdown",
   "metadata": {},
   "source": [
    "### Split validation data"
   ]
  },
  {
   "cell_type": "code",
   "execution_count": 40,
   "metadata": {},
   "outputs": [
    {
     "ename": "AssertionError",
     "evalue": "",
     "output_type": "error",
     "traceback": [
      "\u001b[1;31m---------------------------------------------------------------------------\u001b[0m",
      "\u001b[1;31mAssertionError\u001b[0m                            Traceback (most recent call last)",
      "\u001b[1;32mc:\\Users\\jeuch\\Documents\\GitHub\\traffic-watch\\software\\ml\\preprocess_car_detection.ipynb Cell 8\u001b[0m line \u001b[0;36m9\n\u001b[0;32m      <a href='vscode-notebook-cell:/c%3A/Users/jeuch/Documents/GitHub/traffic-watch/software/ml/preprocess_car_detection.ipynb#X10sZmlsZQ%3D%3D?line=5'>6</a>\u001b[0m label_files \u001b[39m=\u001b[39m os\u001b[39m.\u001b[39mlistdir(\u001b[39m'\u001b[39m\u001b[39m../../data/cars/labels/train\u001b[39m\u001b[39m'\u001b[39m)\n\u001b[0;32m      <a href='vscode-notebook-cell:/c%3A/Users/jeuch/Documents/GitHub/traffic-watch/software/ml/preprocess_car_detection.ipynb#X10sZmlsZQ%3D%3D?line=6'>7</a>\u001b[0m image_files \u001b[39m=\u001b[39m os\u001b[39m.\u001b[39mlistdir(\u001b[39m'\u001b[39m\u001b[39m../../data/cars/images/train\u001b[39m\u001b[39m'\u001b[39m)\n\u001b[1;32m----> <a href='vscode-notebook-cell:/c%3A/Users/jeuch/Documents/GitHub/traffic-watch/software/ml/preprocess_car_detection.ipynb#X10sZmlsZQ%3D%3D?line=8'>9</a>\u001b[0m \u001b[39massert\u001b[39;00m(\u001b[39mlen\u001b[39m(label_files) \u001b[39m==\u001b[39m \u001b[39mlen\u001b[39m(image_files))\n\u001b[0;32m     <a href='vscode-notebook-cell:/c%3A/Users/jeuch/Documents/GitHub/traffic-watch/software/ml/preprocess_car_detection.ipynb#X10sZmlsZQ%3D%3D?line=10'>11</a>\u001b[0m os\u001b[39m.\u001b[39mmakedirs(val_label_folder)\n\u001b[0;32m     <a href='vscode-notebook-cell:/c%3A/Users/jeuch/Documents/GitHub/traffic-watch/software/ml/preprocess_car_detection.ipynb#X10sZmlsZQ%3D%3D?line=11'>12</a>\u001b[0m os\u001b[39m.\u001b[39mmakedirs(val_image_folder)\n",
      "\u001b[1;31mAssertionError\u001b[0m: "
     ]
    }
   ],
   "source": [
    "val_label_folder = '../../data/cars/images/val'\n",
    "val_image_folder = '../../data/cars/labels/val'\n",
    "shutil.rmtree(val_label_folder, ignore_errors=True)\n",
    "shutil.rmtree(val_image_folder, ignore_errors=True)\n",
    "\n",
    "label_files = os.listdir('../../data/cars/labels/train')\n",
    "image_files = os.listdir('../../data/cars/images/train')\n",
    "\n",
    "assert(len(label_files) == len(image_files))\n",
    "\n",
    "os.makedirs(val_label_folder)\n",
    "os.makedirs(val_image_folder)\n",
    "\n",
    "random.shuffle(image_files)\n",
    "split_index = int(0.8 * len(image_files))\n",
    "\n",
    "val_files = []\n",
    "for i in range(split_index, len(image_files)):\n",
    "    val_files.append(os.path.basename(image_files[i]).split('.')[0])\n",
    "\n",
    "for file in val_files:\n",
    "    shutil.copy(f'../../data/cars/images/train/{file}.png', f'../../data/cars/images/val')\n",
    "    shutil.copy(f'../../data/cars/labels/train/{file}.txt', f'../../data/cars/labels/val')"
   ]
  }
 ],
 "metadata": {
  "kernelspec": {
   "display_name": "Python 3 (ipykernel)",
   "language": "python",
   "name": "python3"
  },
  "language_info": {
   "codemirror_mode": {
    "name": "ipython",
    "version": 3
   },
   "file_extension": ".py",
   "mimetype": "text/x-python",
   "name": "python",
   "nbconvert_exporter": "python",
   "pygments_lexer": "ipython3",
   "version": "3.11.6"
  }
 },
 "nbformat": 4,
 "nbformat_minor": 5
}
