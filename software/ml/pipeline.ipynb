{
 "cells": [
  {
   "cell_type": "markdown",
   "id": "1e1596b1",
   "metadata": {},
   "source": [
    "# Training car detection model using YOLOv8"
   ]
  },
  {
   "cell_type": "code",
   "execution_count": 5,
   "metadata": {},
   "outputs": [],
   "source": [
    "import os.path\n",
    "import json\n",
    "import numpy as np\n",
    "import cv2\n",
    "from matplotlib import pyplot as plt\n",
    "import os\n",
    "import shutil\n",
    "import random\n",
    "import math"
   ]
  },
  {
   "cell_type": "code",
   "execution_count": 80,
   "metadata": {},
   "outputs": [],
   "source": [
    "IMAGE_WIDTH = 1920\n",
    "IMAGE_HEIGHT = 1080\n",
    "\n",
    "def get_speed(points): \n",
    "    x1,  y1, timestamp1, x2, y2, timestamp2, actual_speed_kmhr = points\n",
    "    \n",
    "    x1 /= IMAGE_WIDTH\n",
    "    y1 /= IMAGE_HEIGHT\n",
    "\n",
    "    x2 /= IMAGE_WIDTH\n",
    "    y2 /= IMAGE_HEIGHT\n",
    "    #print(round(x1, 2),  round(y1, 2))\n",
    "\n",
    "    scale = 150\n",
    "    x1 = x1 * (math.exp(1-y1)*scale)\n",
    "    y1 = y1 * (math.exp(1-y1)*scale)\n",
    "    x2 = x2 * (math.exp(1-y2)*scale)\n",
    "    y2 = y2 * (math.exp(1-y2)*scale)\n",
    "\n",
    "    dx = x2-x1;\n",
    "    dy = y2-y1;\n",
    "\n",
    "    distance = math.sqrt((dx*dx)+(dy*dy))\n",
    "\n",
    "    time_elapsed = (timestamp2 - timestamp1)\n",
    "    \n",
    "    if (time_elapsed <= 0):\n",
    "        speed = 0\n",
    "    else:\n",
    "        speed = (distance / time_elapsed)\n",
    "\n",
    "    print(round(x1, 2),  round(y1, 2), round(time_elapsed, 2), round(distance, 2), int(speed*3.6), actual_speed_kmhr)\n",
    "   # print(speed)\n",
    "        #speed *= 3600\n",
    "    #print(int(speed * 1.609), distance, time_elapsed)\n",
    "    #print(int(speed * 1.609), actual_speed_kmhr)"
   ]
  },
  {
   "cell_type": "code",
   "execution_count": 81,
   "metadata": {},
   "outputs": [
    {
     "name": "stdout",
     "output_type": "stream",
     "text": [
      "158.51 146.8 0.0 0.0 0 13\n",
      "158.51 146.8 0.18 0.47 9 13\n",
      "158.22 146.43 0.22 0.92 15 13\n",
      "157.37 146.07 0.18 0.55 11 13\n",
      "156.94 145.74 0.27 0.94 12 13\n",
      "156.13 145.26 0.14 0.57 14 13\n",
      "155.61 145.02 0.23 0.56 8 13\n",
      "155.17 144.67 0.17 0.43 9 13\n",
      "154.87 144.36 0.21 0.69 11 13\n",
      "154.26 144.04 0.19 0.54 9 13\n",
      "153.88 143.66 0.2 0.76 13 13\n",
      "153.16 143.42 0.2 0.66 11 13\n",
      "152.57 143.12 0.21 0.44 7 13\n",
      "152.32 142.76 0.18 0.52 10 13\n",
      "151.84 142.55 0.19 0.53 9 13\n",
      "151.47 142.18 0.21 0.62 10 13\n",
      "150.91 141.9 0.21 0.64 10 13\n",
      "150.31 141.68 0.19 0.46 8 13\n",
      "149.95 141.39 0.19 0.21 3 13\n",
      "149.83 141.22 0.22 0.66 10 13\n",
      "149.25 140.93 0.2 0.31 5 13\n",
      "149.05 140.69 0.19 0.48 9 13\n",
      "148.6 140.5 0.26 0.52 7 13\n",
      "148.24 140.13 0.15 0.23 5 13\n",
      "148.11 139.94 0.2 0.4 7 13\n"
     ]
    }
   ],
   "source": [
    "f = open('../../data/default.json')\n",
    "data = json.load(f)\n",
    "\n",
    "sorted_annotations = sorted(data['items'], key=lambda x: int(x['id']))\n",
    "\n",
    "points = []\n",
    "for i in range(0, len(sorted_annotations)):\n",
    "    f1 = open(f'../../data/recordings/0/sensors/{i}.txt')\n",
    "    file_values = f1.readline().split()\n",
    "    timestamp = float(file_values[1])\n",
    "    actual_speed_kmhr = int(float(file_values[2]))\n",
    "\n",
    "    px = int(sorted_annotations[i]['annotations'][0]['points'][0])\n",
    "    py = int(sorted_annotations[i]['annotations'][0]['points'][1])\n",
    "\n",
    "    '''\n",
    "    xtl = int(sorted_annotations[i]['annotations'][1]['bbox'][0])\n",
    "    ytl = int(sorted_annotations[i]['annotations'][1]['bbox'][1])\n",
    "    xbr = int(sorted_annotations[i]['annotations'][1]['bbox'][2])\n",
    "    ybr = int(sorted_annotations[i]['annotations'][1]['bbox'][3])\n",
    "    w = xbr - xtl\n",
    "    h = ybr - ytl\n",
    "    px = (xtl + (w / 2) / IMAGE_WIDTH)\n",
    "    py = (ytl + (h / 2)) / IMAGE_HEIGHT\n",
    "    '''\n",
    "\n",
    "    if i == 0:   \n",
    "        points.append([px, py, timestamp, px, py, timestamp, actual_speed_kmhr])\n",
    "    else:\n",
    "        old = points[i-1]\n",
    "        p1, p2, timestamp1, p3, p4, timestamp2, old_speed = old\n",
    "        points.append([p3, p4, timestamp2, px, py, timestamp, actual_speed_kmhr])\n",
    "    f1.close()\n",
    "\n",
    "for point in points:\n",
    "    #print(point)\n",
    "    get_speed(point)\n",
    "    \n",
    "f.close()"
   ]
  }
 ],
 "metadata": {
  "kernelspec": {
   "display_name": "Python 3 (ipykernel)",
   "language": "python",
   "name": "python3"
  },
  "language_info": {
   "codemirror_mode": {
    "name": "ipython",
    "version": 3
   },
   "file_extension": ".py",
   "mimetype": "text/x-python",
   "name": "python",
   "nbconvert_exporter": "python",
   "pygments_lexer": "ipython3",
   "version": "3.11.6"
  }
 },
 "nbformat": 4,
 "nbformat_minor": 5
}
