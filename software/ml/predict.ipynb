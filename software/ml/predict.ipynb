{
 "cells": [
  {
   "cell_type": "code",
   "execution_count": 1,
   "metadata": {},
   "outputs": [
    {
     "name": "stdout",
     "output_type": "stream",
     "text": [
      "WARNING:tensorflow:From c:\\Users\\jeuch\\Documents\\GitHub\\traffic-watch\\.venv\\ml\\lib\\site-packages\\keras\\src\\losses.py:2976: The name tf.losses.sparse_softmax_cross_entropy is deprecated. Please use tf.compat.v1.losses.sparse_softmax_cross_entropy instead.\n",
      "\n"
     ]
    }
   ],
   "source": [
    "import numpy as np\n",
    "from constants import *\n",
    "from util import extract_results\n",
    "from keras.models import load_model\n",
    "from ultralytics import YOLO"
   ]
  },
  {
   "cell_type": "code",
   "execution_count": 2,
   "metadata": {},
   "outputs": [],
   "source": [
    "NUM_VIDEOS = 10"
   ]
  },
  {
   "cell_type": "code",
   "execution_count": 3,
   "metadata": {},
   "outputs": [],
   "source": [
    "detection_model = YOLO('../../data/detection_model/weights/last.pt')"
   ]
  },
  {
   "cell_type": "code",
   "execution_count": 4,
   "metadata": {},
   "outputs": [
    {
     "name": "stdout",
     "output_type": "stream",
     "text": [
      "WARNING:tensorflow:From c:\\Users\\jeuch\\Documents\\GitHub\\traffic-watch\\.venv\\ml\\lib\\site-packages\\keras\\src\\backend.py:1398: The name tf.executing_eagerly_outside_functions is deprecated. Please use tf.compat.v1.executing_eagerly_outside_functions instead.\n",
      "\n"
     ]
    }
   ],
   "source": [
    "action_model_v1 = load_model('../../data/action_model/v1.h5')\n",
    "action_model_v2 = load_model('../../data/action_model/v2.h5')\n",
    "action_model_v3 = load_model('../../data/action_model/v3.h5')\n",
    "action_models = [action_model_v1, action_model_v2, action_model_v3]"
   ]
  },
  {
   "cell_type": "code",
   "execution_count": 7,
   "metadata": {},
   "outputs": [],
   "source": [
    "def run(detection_model, action_model, model_ver):\n",
    "    total_correct = 0\n",
    "    total_count = 0\n",
    "\n",
    "    for action in ACTIONS[:4] if model_ver == 1 else ACTIONS:\n",
    "        correct = 0\n",
    "        count = 0\n",
    "        avg_confidence = 0\n",
    "        for i in range (0, NUM_VIDEOS):\n",
    "            sequence = []\n",
    "            for j in range(0, 10):\n",
    "                sensor_file = open(f\"../../data/test/%s/%s/sensors/%s.txt\" % (action,i,j))\n",
    "                image_path = f\"../../data/test/%s/%s/videos/%s.png\" % (action,i,j)\n",
    "                red_light_sensor = np.array([int(sensor_file.readline().split()[0])])\n",
    "                results = detection_model(image_path, verbose=False)\n",
    "\n",
    "                cropped_img_norm, keypoints_norm = extract_results(results, image_path=image_path)\n",
    "                res = np.concatenate([cropped_img_norm, keypoints_norm[:2] if model_ver == 3 else keypoints_norm, red_light_sensor])\n",
    "                sequence.append(res)\n",
    "                sensor_file.close()\n",
    "\n",
    "            res = action_model.predict(np.expand_dims(sequence, axis=0), verbose=None)[0]\n",
    "            action_index = np.argmax(res)\n",
    "            action_prediction = ACTIONS[action_index]\n",
    "            #print(f\"\\t\\t%s (%s%%)\" % (action_prediction, int(res[action_index] * 100)))\n",
    "\n",
    "            if action_prediction == action:\n",
    "                correct += 1\n",
    "            count += 1\n",
    "            avg_confidence += res[action_index]\n",
    "        total_correct += correct\n",
    "        total_count += count\n",
    "        print(f\"\\t%s: %s/%s (%s%%), avg confidence: %s%%\" % (action, correct, count, int(correct/count * 100), int(avg_confidence/count * 100)))\n",
    "\n",
    "    print(f\"\\n\\tSummary: %s/%s (%s%%)\\n\" % (total_correct, total_count, int(total_correct/total_count * 100)))"
   ]
  },
  {
   "cell_type": "code",
   "execution_count": 6,
   "metadata": {},
   "outputs": [
    {
     "name": "stdout",
     "output_type": "stream",
     "text": [
      "v1:\n",
      "\tgood: 2/10 (20%), avg confidence: 59%\n",
      "\tweaving: 6/10 (60%), avg confidence: 58%\n",
      "\tred_light: 10/10 (100%), avg confidence: 85%\n",
      "\tcross_yellow: 4/10 (40%), avg confidence: 53%\n",
      "\n",
      "\tSummary: 22/40 (55%)\n",
      "\n",
      "v2:\n",
      "\tgood: 7/10 (70%), avg confidence: 51%\n",
      "\tweaving: 7/10 (70%), avg confidence: 56%\n",
      "\tred_light: 9/10 (90%), avg confidence: 81%\n",
      "\tcross_yellow: 5/10 (50%), avg confidence: 55%\n",
      "\toff_road: 9/10 (90%), avg confidence: 80%\n",
      "\tcollision: 6/10 (60%), avg confidence: 61%\n",
      "\n",
      "\tSummary: 43/60 (71%)\n",
      "\n",
      "v3:\n",
      "\tgood: 2/10 (20%), avg confidence: 33%\n",
      "\tweaving: 4/10 (40%), avg confidence: 32%\n",
      "\tred_light: 6/10 (60%), avg confidence: 63%\n",
      "\tcross_yellow: 3/10 (30%), avg confidence: 38%\n",
      "\toff_road: 6/10 (60%), avg confidence: 58%\n",
      "\tcollision: 6/10 (60%), avg confidence: 38%\n",
      "\n",
      "\tSummary: 27/60 (45%)\n",
      "\n"
     ]
    }
   ],
   "source": [
    "for index, action_model in enumerate(action_models, start=1):\n",
    "    print(f\"v%s:\" % index)\n",
    "    run(detection_model, action_model, index)"
   ]
  }
 ],
 "metadata": {
  "kernelspec": {
   "display_name": "ml",
   "language": "python",
   "name": "python3"
  },
  "language_info": {
   "codemirror_mode": {
    "name": "ipython",
    "version": 3
   },
   "file_extension": ".py",
   "mimetype": "text/x-python",
   "name": "python",
   "nbconvert_exporter": "python",
   "pygments_lexer": "ipython3",
   "version": "3.9.0"
  }
 },
 "nbformat": 4,
 "nbformat_minor": 2
}
