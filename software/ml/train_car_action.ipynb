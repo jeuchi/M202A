{
 "cells": [
  {
   "cell_type": "code",
   "execution_count": 1,
   "metadata": {},
   "outputs": [
    {
     "name": "stdout",
     "output_type": "stream",
     "text": [
      "WARNING:tensorflow:From c:\\Users\\jeuch\\Documents\\GitHub\\traffic-watch\\.venv\\ml\\lib\\site-packages\\keras\\src\\losses.py:2976: The name tf.losses.sparse_softmax_cross_entropy is deprecated. Please use tf.compat.v1.losses.sparse_softmax_cross_entropy instead.\n",
      "\n"
     ]
    }
   ],
   "source": [
    "import numpy as np\n",
    "import os\n",
    "import cv2\n",
    "from matplotlib import pyplot as plt\n",
    "from sklearn.model_selection import train_test_split\n",
    "from tensorflow.keras.utils import to_categorical\n",
    "from tensorflow.keras.models import Sequential\n",
    "from tensorflow.keras.layers import LSTM, Dense, ConvLSTM2D, Flatten, Dropout, BatchNormalization\n",
    "from tensorflow.keras.callbacks import TensorBoard, EarlyStopping\n",
    "from tensorflow.keras.metrics import CategoricalAccuracy\n",
    "from tensorflow.keras.optimizers import Adam\n",
    "from ultralytics import YOLO\n",
    "from constants import *\n",
    "from util import extract_results"
   ]
  },
  {
   "cell_type": "code",
   "execution_count": 2,
   "metadata": {},
   "outputs": [],
   "source": [
    "# Acceptable values: 1 (manual), 2 (hybrid), 3 (bounding box only)\n",
    "MODEL_VERSION = 1\n",
    "\n",
    "NUM_VIDEOS = 45\n",
    "SEQUENCE_LENGTH = 10"
   ]
  },
  {
   "cell_type": "markdown",
   "metadata": {},
   "source": [
    "### Preprocess Data "
   ]
  },
  {
   "cell_type": "code",
   "execution_count": 3,
   "metadata": {},
   "outputs": [],
   "source": [
    "label_map = {label:num for num, label in enumerate(ACTIONS)}"
   ]
  },
  {
   "cell_type": "code",
   "execution_count": 4,
   "metadata": {},
   "outputs": [
    {
     "data": {
      "text/plain": [
       "{'good': 0,\n",
       " 'weaving': 1,\n",
       " 'red_light': 2,\n",
       " 'cross_yellow': 3,\n",
       " 'off_road': 4,\n",
       " 'collision': 5}"
      ]
     },
     "execution_count": 4,
     "metadata": {},
     "output_type": "execute_result"
    }
   ],
   "source": [
    "label_map"
   ]
  },
  {
   "cell_type": "markdown",
   "metadata": {},
   "source": [
    "### Training with manual annotations"
   ]
  },
  {
   "cell_type": "code",
   "execution_count": 5,
   "metadata": {},
   "outputs": [],
   "source": [
    "def extract_manual(keypoints, image_path):\n",
    "    keypoints_norm = []\n",
    "    pixels_around_box = []\n",
    "    img = cv2.imread(image_path)\n",
    "\n",
    "    xtl,ytl,w,h = keypoints[1], keypoints[2], keypoints[3], keypoints[4]\n",
    "    w = int(w * IMAGE_WIDTH)\n",
    "    h = int(h * IMAGE_HEIGHT)\n",
    "    xtl = int((xtl * IMAGE_WIDTH) - (w/2))\n",
    "    ytl = int((ytl * IMAGE_HEIGHT) - (h/2))\n",
    "    xbr = xtl + w \n",
    "    ybr = ytl + h\n",
    "\n",
    "    car_center = (int((xtl + xbr)/2), int((ytl + ybr)/2))\n",
    "    keypoints_norm.append(car_center[0]/IMAGE_WIDTH)\n",
    "    keypoints_norm.append(car_center[1]/IMAGE_HEIGHT)\n",
    "    #keypoints_norm.append(xtl/IMAGE_WIDTH)\n",
    "    #keypoints_norm.append(ytl/IMAGE_HEIGHT)\n",
    "    #keypoints_norm.append(xbr/IMAGE_WIDTH)\n",
    "    #keypoints_norm.append(ybr/IMAGE_HEIGHT)\n",
    "    cv2.rectangle(img, (xtl, ytl), (xbr, ybr), [255,0,0], 1)\n",
    "    cv2.circle(img, (car_center[0], car_center[1]), 1, [255,0,0], -1)\n",
    "                \n",
    "    keypoints_points = keypoints[5:]\n",
    "    for i in range(0, len(keypoints_points), 3):\n",
    "        k = i + 2\n",
    "        if (k > len(keypoints_points)):\n",
    "            break\n",
    "        if keypoints_points[k] == 0:\n",
    "            keypoints_norm.append(0)\n",
    "            keypoints_norm.append(0)\n",
    "        else:\n",
    "            keypoints_norm.append(keypoints_points[i])\n",
    "            keypoints_norm.append(keypoints_points[i+1])\n",
    "            cv2.circle(img, (int(keypoints_points[i]*IMAGE_WIDTH),int(keypoints_points[i+1]*IMAGE_HEIGHT)), 1, [0,255,0], -1)\n",
    "\n",
    "    if xtl != 0 and ytl != 0:\n",
    "        pixels_top_left = img[ytl-PIXELS_HEIGHT+40: ytl+40,  xtl-PIXELS_WIDTH:xtl]\n",
    "        pixels_bottom_left = img[ybr: ybr+PIXELS_HEIGHT, xtl-PIXELS_WIDTH:xtl]\n",
    "        pixels_top_right = img[ytl-PIXELS_HEIGHT+40: ytl+40, xbr:xbr+PIXELS_WIDTH]\n",
    "        pixels_bottom_right = img[ybr: ybr+PIXELS_HEIGHT, xbr:xbr+PIXELS_WIDTH]\n",
    "\n",
    "        pixels_top_left = pixels_top_left.flatten()\n",
    "        pixels_bottom_left = pixels_bottom_left.flatten()\n",
    "        pixels_top_right = pixels_top_right.flatten()\n",
    "        pixels_bottom_right = pixels_bottom_right.flatten()\n",
    "\n",
    "        pad_width = PIXELS_ARRAY_SIZE - len(pixels_top_left)\n",
    "        pixels_top_left = np.pad(pixels_top_left, (0, pad_width), mode='constant', constant_values=0)\n",
    "        pad_width = PIXELS_ARRAY_SIZE - len(pixels_bottom_left)\n",
    "        pixels_bottom_left = np.pad(pixels_bottom_left, (0, pad_width), mode='constant', constant_values=0)\n",
    "        pad_width = PIXELS_ARRAY_SIZE - len(pixels_top_right)\n",
    "        pixels_top_right = np.pad(pixels_top_right, (0, pad_width), mode='constant', constant_values=0)\n",
    "        pad_width = PIXELS_ARRAY_SIZE - len(pixels_bottom_right)\n",
    "        pixels_bottom_right = np.pad(pixels_bottom_right, (0, pad_width), mode='constant', constant_values=0)\n",
    "\n",
    "        pixels_around_box = np.concatenate([pixels_top_left, pixels_bottom_left, pixels_top_right, pixels_bottom_right])\n",
    "        pixels_around_box = pixels_around_box.astype(np.float32) / 255.0\n",
    "\n",
    "    pad_width = (PIXELS_ARRAY_SIZE * 4) - len(pixels_around_box)\n",
    "    pixels_around_box = np.pad(pixels_around_box, (0, pad_width), mode='constant', constant_values=0)\n",
    "\n",
    "    if False:\n",
    "        if image_path == '../../data/recordings\\\\red_light\\\\9\\\\videos/9.png':\n",
    "            print(keypoints_norm)\n",
    "            print(pixels_around_box)\n",
    "            cv2.imshow(\"Keypoints\", img)\n",
    "            cv2.waitKey(0)\n",
    "            cv2.destroyAllWindows() \n",
    "\n",
    "    return pixels_around_box, keypoints_norm"
   ]
  },
  {
   "cell_type": "code",
   "execution_count": 6,
   "metadata": {},
   "outputs": [],
   "source": [
    "def model_version_1():\n",
    "    sequences, labels = [], []\n",
    "    starting_manual_annotation = 220\n",
    "\n",
    "    for action in ACTIONS[:4]:\n",
    "        for sequence in range(15):\n",
    "            window = []\n",
    "            for frame_num in range(SEQUENCE_LENGTH):\n",
    "                keypoints = np.loadtxt('../../data/cars/labels/all/%s.txt' % starting_manual_annotation, dtype=float)\n",
    "                sensor_file = open(os.path.join('../../data/recordings', action, str(sequence), 'sensors/%s.txt' % frame_num))\n",
    "                red_light_sensor = np.array([int(sensor_file.readline().split()[0])])\n",
    "                sensor_file.close()\n",
    "                \n",
    "                cropped_img_norm, keypoints_norm = extract_manual(keypoints, image_path=os.path.join('../../data/recordings', action, str(sequence), 'videos/%s.png' % frame_num))\n",
    "                res = np.concatenate([cropped_img_norm, keypoints_norm, red_light_sensor])\n",
    "                starting_manual_annotation += 1\n",
    "                window.append(res)\n",
    "            sequences.append(window)\n",
    "            labels.append(label_map[action])\n",
    "            \n",
    "    return sequences, labels"
   ]
  },
  {
   "cell_type": "markdown",
   "metadata": {},
   "source": [
    "### Training using hybrid detection model"
   ]
  },
  {
   "cell_type": "code",
   "execution_count": 7,
   "metadata": {},
   "outputs": [],
   "source": [
    "def model_version_2():\n",
    "    image_num = 0\n",
    "    sequences, labels = [], []\n",
    "    model = YOLO('../../data/detection_model/weights/last.pt')\n",
    "\n",
    "    starting_manual_annotation = 220\n",
    "\n",
    "    for index, action in enumerate(ACTIONS):\n",
    "        for sequence in range(NUM_VIDEOS):\n",
    "            window = []\n",
    "            for frame_num in range(SEQUENCE_LENGTH):\n",
    "                image_path = os.path.join('../../data/recordings', action, str(sequence), 'videos/%s.png' % frame_num)\n",
    "                sensor_path = os.path.join('../../data/recordings', action, str(sequence), 'sensors/%s.txt' % frame_num)\n",
    "                sensor_file = open(sensor_path)\n",
    "                red_light_sensor = np.array([int(sensor_file.readline().split()[0])])\n",
    "                sensor_file.close()\n",
    "\n",
    "                # With hybrid, extract manual for the ones we have.\n",
    "                if (index < 4 and sequence < 15):\n",
    "                    keypoints = np.loadtxt('../../data/cars/labels/all/%s.txt' % starting_manual_annotation, dtype=float)\n",
    "                    pixels_around_box, keypoints_norm = extract_manual(keypoints, image_path=os.path.join('../../data/recordings', action, str(sequence), 'videos/%s.png' % frame_num))\n",
    "                    starting_manual_annotation += 1\n",
    "                else:\n",
    "                    results = model(image_path, verbose=False)\n",
    "                    pixels_around_box, keypoints_norm = extract_results(results, image_path, image_num=image_num, save_image=False, save_cropped_image=False, show_cropped_image=False, show_image=False)\n",
    "\n",
    "                image_num += 1\n",
    "                res = np.concatenate([pixels_around_box, keypoints_norm, red_light_sensor])\n",
    "                window.append(res)\n",
    "            sequences.append(window)\n",
    "            labels.append(label_map[action])\n",
    "    \n",
    "    return sequences, labels"
   ]
  },
  {
   "cell_type": "markdown",
   "metadata": {},
   "source": [
    "### Training using only bounding box"
   ]
  },
  {
   "cell_type": "code",
   "execution_count": 8,
   "metadata": {},
   "outputs": [],
   "source": [
    "def model_version_3():\n",
    "    image_num = 0\n",
    "    sequences, labels = [], []\n",
    "    model = YOLO('../../data/detection_model/weights/last.pt')\n",
    "\n",
    "    for action in ACTIONS:\n",
    "        for sequence in range(NUM_VIDEOS):\n",
    "            window = []\n",
    "            for frame_num in range(SEQUENCE_LENGTH):\n",
    "                image_path = os.path.join('../../data/recordings', action, str(sequence), 'videos/%s.png' % frame_num)\n",
    "                sensor_path = os.path.join('../../data/recordings', action, str(sequence), 'sensors/%s.txt' % frame_num)\n",
    "                sensor_file = open(sensor_path)\n",
    "                red_light_sensor = np.array([int(sensor_file.readline().split()[0])])\n",
    "                sensor_file.close()\n",
    "\n",
    "                results = model(image_path, verbose=False)\n",
    "                pixels_around_box, keypoints_norm = extract_results(results, image_path, image_num=image_num, save_image=False, save_cropped_image=False, show_cropped_image=False, show_image=False)\n",
    "                image_num += 1\n",
    "                res = np.concatenate([pixels_around_box, keypoints_norm[:2], red_light_sensor])\n",
    "                window.append(res)\n",
    "            sequences.append(window)\n",
    "            labels.append(label_map[action])\n",
    "    \n",
    "    return sequences, labels"
   ]
  },
  {
   "cell_type": "code",
   "execution_count": 9,
   "metadata": {},
   "outputs": [
    {
     "name": "stdout",
     "output_type": "stream",
     "text": [
      "Training manual model\n"
     ]
    }
   ],
   "source": [
    "sequences = None \n",
    "labels = None\n",
    "\n",
    "if MODEL_VERSION == 1:\n",
    "    print(\"Training manual model\")\n",
    "    sequences, labels = model_version_1()\n",
    "elif MODEL_VERSION == 2:\n",
    "    print(\"Training hybrid model\")\n",
    "    sequences, labels = model_version_2()\n",
    "elif MODEL_VERSION == 3:\n",
    "    print(\"Training bounding box model\")\n",
    "    sequences, labels = model_version_3()"
   ]
  },
  {
   "cell_type": "code",
   "execution_count": 10,
   "metadata": {},
   "outputs": [],
   "source": [
    "assert(sequences is not None)\n",
    "assert(labels is not None)\n",
    "X = np.array(sequences)"
   ]
  },
  {
   "cell_type": "code",
   "execution_count": 11,
   "metadata": {},
   "outputs": [
    {
     "data": {
      "text/plain": [
       "(60, 10, 143)"
      ]
     },
     "execution_count": 11,
     "metadata": {},
     "output_type": "execute_result"
    }
   ],
   "source": [
    "X.shape"
   ]
  },
  {
   "cell_type": "code",
   "execution_count": 12,
   "metadata": {},
   "outputs": [
    {
     "data": {
      "text/plain": [
       "(60,)"
      ]
     },
     "execution_count": 12,
     "metadata": {},
     "output_type": "execute_result"
    }
   ],
   "source": [
    "np.array(labels).shape"
   ]
  },
  {
   "cell_type": "code",
   "execution_count": 13,
   "metadata": {},
   "outputs": [],
   "source": [
    "y = to_categorical(labels).astype(int)"
   ]
  },
  {
   "cell_type": "code",
   "execution_count": 115,
   "metadata": {},
   "outputs": [],
   "source": [
    "X_train, X_test, y_train, y_test = train_test_split(X, y, test_size=0.20)"
   ]
  },
  {
   "cell_type": "code",
   "execution_count": 97,
   "metadata": {},
   "outputs": [
    {
     "data": {
      "text/plain": [
       "(51, 10, 143)"
      ]
     },
     "execution_count": 97,
     "metadata": {},
     "output_type": "execute_result"
    }
   ],
   "source": [
    "X_train.shape"
   ]
  },
  {
   "cell_type": "markdown",
   "metadata": {},
   "source": [
    "### Build and Train LSTM"
   ]
  },
  {
   "cell_type": "code",
   "execution_count": 16,
   "metadata": {},
   "outputs": [],
   "source": [
    "log_dir = os.path.join('Logs')\n",
    "tb_callback = TensorBoard(log_dir=log_dir)"
   ]
  },
  {
   "cell_type": "code",
   "execution_count": 116,
   "metadata": {},
   "outputs": [],
   "source": [
    "early_stop_cb = EarlyStopping(monitor=\"val_loss\",verbose=2,mode='min',patience=15)"
   ]
  },
  {
   "cell_type": "code",
   "execution_count": 128,
   "metadata": {},
   "outputs": [],
   "source": [
    "features = PIXELS_ARRAY_SIZE*4\n",
    "\n",
    "if (MODEL_VERSION == 3):\n",
    "    features += 3\n",
    "else:\n",
    "    features += 35\n",
    "\n",
    "model = Sequential()\n",
    "model.add(LSTM(32, return_sequences=False, activation='relu', input_shape=(SEQUENCE_LENGTH, features)))\n",
    "model.add(Dropout(0.25))\n",
    "#model.add(LSTM(32, return_sequences=False, activation='relu'))\n",
    "#model.add(Dropout(0.25))\n",
    "\n",
    "#model.add(LSTM(32, return_sequences=False, activation='relu'))\n",
    "#model.add(LSTM(128, return_sequences=True, activation='relu'))\n",
    "#model.add(LSTM(32, return_sequences=False, activation='relu'))\n",
    "#model.add(Dense(64, activation='relu'))\n",
    "model.add(Dense(32, activation='relu'))\n",
    "model.add(Dense(ACTIONS.shape[0] if MODEL_VERSION != 1 else ACTIONS[:4].shape[0], activation='softmax'))"
   ]
  },
  {
   "cell_type": "code",
   "execution_count": 129,
   "metadata": {},
   "outputs": [],
   "source": [
    "optimizer = Adam(learning_rate=0.0005)\n",
    "model.compile(optimizer=optimizer, loss='categorical_crossentropy', metrics=[CategoricalAccuracy()])"
   ]
  },
  {
   "cell_type": "code",
   "execution_count": 124,
   "metadata": {},
   "outputs": [
    {
     "name": "stdout",
     "output_type": "stream",
     "text": [
      "Model: \"sequential_16\"\n",
      "_________________________________________________________________\n",
      " Layer (type)                Output Shape              Param #   \n",
      "=================================================================\n",
      " lstm_16 (LSTM)              (None, 32)                22528     \n",
      "                                                                 \n",
      " dropout_16 (Dropout)        (None, 32)                0         \n",
      "                                                                 \n",
      " dense_25 (Dense)            (None, 32)                1056      \n",
      "                                                                 \n",
      " dense_26 (Dense)            (None, 4)                 132       \n",
      "                                                                 \n",
      "=================================================================\n",
      "Total params: 23716 (92.64 KB)\n",
      "Trainable params: 23716 (92.64 KB)\n",
      "Non-trainable params: 0 (0.00 Byte)\n",
      "_________________________________________________________________\n"
     ]
    }
   ],
   "source": [
    "model.summary()"
   ]
  },
  {
   "cell_type": "code",
   "execution_count": 130,
   "metadata": {},
   "outputs": [
    {
     "name": "stdout",
     "output_type": "stream",
     "text": [
      "Epoch 1/300\n",
      "2/2 [==============================] - 1s 194ms/step - loss: 1.4760 - categorical_accuracy: 0.2500 - val_loss: 1.3939 - val_categorical_accuracy: 0.4167\n",
      "Epoch 2/300\n",
      "2/2 [==============================] - 0s 35ms/step - loss: 1.4523 - categorical_accuracy: 0.2292 - val_loss: 1.3919 - val_categorical_accuracy: 0.4167\n",
      "Epoch 3/300\n",
      "2/2 [==============================] - 0s 32ms/step - loss: 1.4346 - categorical_accuracy: 0.3125 - val_loss: 1.3950 - val_categorical_accuracy: 0.4167\n",
      "Epoch 4/300\n",
      "2/2 [==============================] - 0s 33ms/step - loss: 1.4003 - categorical_accuracy: 0.3750 - val_loss: 1.3940 - val_categorical_accuracy: 0.4167\n",
      "Epoch 5/300\n",
      "2/2 [==============================] - 0s 34ms/step - loss: 1.3863 - categorical_accuracy: 0.3958 - val_loss: 1.3946 - val_categorical_accuracy: 0.4167\n",
      "Epoch 6/300\n",
      "2/2 [==============================] - 0s 33ms/step - loss: 1.3650 - categorical_accuracy: 0.3750 - val_loss: 1.3974 - val_categorical_accuracy: 0.4167\n",
      "Epoch 7/300\n",
      "2/2 [==============================] - 0s 32ms/step - loss: 1.3823 - categorical_accuracy: 0.2292 - val_loss: 1.4050 - val_categorical_accuracy: 0.3333\n",
      "Epoch 8/300\n",
      "2/2 [==============================] - 0s 33ms/step - loss: 1.3484 - categorical_accuracy: 0.3750 - val_loss: 1.4136 - val_categorical_accuracy: 0.3333\n",
      "Epoch 9/300\n",
      "2/2 [==============================] - 0s 33ms/step - loss: 1.3796 - categorical_accuracy: 0.2708 - val_loss: 1.4156 - val_categorical_accuracy: 0.3333\n",
      "Epoch 10/300\n",
      "2/2 [==============================] - 0s 33ms/step - loss: 1.3444 - categorical_accuracy: 0.3125 - val_loss: 1.4067 - val_categorical_accuracy: 0.3333\n",
      "Epoch 11/300\n",
      "2/2 [==============================] - 0s 34ms/step - loss: 1.3421 - categorical_accuracy: 0.3333 - val_loss: 1.3907 - val_categorical_accuracy: 0.3333\n",
      "Epoch 12/300\n",
      "2/2 [==============================] - 0s 32ms/step - loss: 1.3204 - categorical_accuracy: 0.2917 - val_loss: 1.3726 - val_categorical_accuracy: 0.4167\n",
      "Epoch 13/300\n",
      "2/2 [==============================] - 0s 34ms/step - loss: 1.3131 - categorical_accuracy: 0.4167 - val_loss: 1.3554 - val_categorical_accuracy: 0.4167\n",
      "Epoch 14/300\n",
      "2/2 [==============================] - 0s 34ms/step - loss: 1.2853 - categorical_accuracy: 0.3750 - val_loss: 1.3447 - val_categorical_accuracy: 0.4167\n",
      "Epoch 15/300\n",
      "2/2 [==============================] - 0s 34ms/step - loss: 1.2956 - categorical_accuracy: 0.3542 - val_loss: 1.3410 - val_categorical_accuracy: 0.3333\n",
      "Epoch 16/300\n",
      "2/2 [==============================] - 0s 34ms/step - loss: 1.3131 - categorical_accuracy: 0.3542 - val_loss: 1.3465 - val_categorical_accuracy: 0.3333\n",
      "Epoch 17/300\n",
      "2/2 [==============================] - 0s 34ms/step - loss: 1.2635 - categorical_accuracy: 0.3333 - val_loss: 1.3543 - val_categorical_accuracy: 0.3333\n",
      "Epoch 18/300\n",
      "2/2 [==============================] - 0s 35ms/step - loss: 1.2321 - categorical_accuracy: 0.3958 - val_loss: 1.3557 - val_categorical_accuracy: 0.3333\n",
      "Epoch 19/300\n",
      "2/2 [==============================] - 0s 34ms/step - loss: 1.2302 - categorical_accuracy: 0.3958 - val_loss: 1.3510 - val_categorical_accuracy: 0.3333\n",
      "Epoch 20/300\n",
      "2/2 [==============================] - 0s 34ms/step - loss: 1.2073 - categorical_accuracy: 0.4583 - val_loss: 1.3414 - val_categorical_accuracy: 0.3333\n",
      "Epoch 21/300\n",
      "2/2 [==============================] - 0s 33ms/step - loss: 1.2351 - categorical_accuracy: 0.4167 - val_loss: 1.3231 - val_categorical_accuracy: 0.3333\n",
      "Epoch 22/300\n",
      "2/2 [==============================] - 0s 33ms/step - loss: 1.2166 - categorical_accuracy: 0.4167 - val_loss: 1.3089 - val_categorical_accuracy: 0.3333\n",
      "Epoch 23/300\n",
      "2/2 [==============================] - 0s 33ms/step - loss: 1.2271 - categorical_accuracy: 0.4167 - val_loss: 1.2959 - val_categorical_accuracy: 0.3333\n",
      "Epoch 24/300\n",
      "2/2 [==============================] - 0s 33ms/step - loss: 1.2188 - categorical_accuracy: 0.4167 - val_loss: 1.2857 - val_categorical_accuracy: 0.4167\n",
      "Epoch 25/300\n",
      "2/2 [==============================] - 0s 34ms/step - loss: 1.1758 - categorical_accuracy: 0.4375 - val_loss: 1.2839 - val_categorical_accuracy: 0.4167\n",
      "Epoch 26/300\n",
      "2/2 [==============================] - 0s 39ms/step - loss: 1.2207 - categorical_accuracy: 0.4167 - val_loss: 1.2885 - val_categorical_accuracy: 0.4167\n",
      "Epoch 27/300\n",
      "2/2 [==============================] - 0s 39ms/step - loss: 1.1332 - categorical_accuracy: 0.4583 - val_loss: 1.2873 - val_categorical_accuracy: 0.4167\n",
      "Epoch 28/300\n",
      "2/2 [==============================] - 0s 37ms/step - loss: 1.1688 - categorical_accuracy: 0.5208 - val_loss: 1.2741 - val_categorical_accuracy: 0.4167\n",
      "Epoch 29/300\n",
      "2/2 [==============================] - 0s 34ms/step - loss: 1.1011 - categorical_accuracy: 0.5625 - val_loss: 1.2634 - val_categorical_accuracy: 0.4167\n",
      "Epoch 30/300\n",
      "2/2 [==============================] - 0s 34ms/step - loss: 1.1365 - categorical_accuracy: 0.4583 - val_loss: 1.2486 - val_categorical_accuracy: 0.4167\n",
      "Epoch 31/300\n",
      "2/2 [==============================] - 0s 34ms/step - loss: 1.1692 - categorical_accuracy: 0.5208 - val_loss: 1.2240 - val_categorical_accuracy: 0.4167\n",
      "Epoch 32/300\n",
      "2/2 [==============================] - 0s 32ms/step - loss: 1.1374 - categorical_accuracy: 0.5625 - val_loss: 1.2168 - val_categorical_accuracy: 0.4167\n",
      "Epoch 33/300\n",
      "2/2 [==============================] - 0s 34ms/step - loss: 1.0943 - categorical_accuracy: 0.5625 - val_loss: 1.2250 - val_categorical_accuracy: 0.4167\n",
      "Epoch 34/300\n",
      "2/2 [==============================] - 0s 33ms/step - loss: 1.0803 - categorical_accuracy: 0.5833 - val_loss: 1.2223 - val_categorical_accuracy: 0.5000\n",
      "Epoch 35/300\n",
      "2/2 [==============================] - 0s 35ms/step - loss: 1.0686 - categorical_accuracy: 0.5208 - val_loss: 1.1893 - val_categorical_accuracy: 0.4167\n",
      "Epoch 36/300\n",
      "2/2 [==============================] - 0s 32ms/step - loss: 1.1071 - categorical_accuracy: 0.5417 - val_loss: 1.1722 - val_categorical_accuracy: 0.5833\n",
      "Epoch 37/300\n",
      "2/2 [==============================] - 0s 31ms/step - loss: 1.0703 - categorical_accuracy: 0.5208 - val_loss: 1.1592 - val_categorical_accuracy: 0.5833\n",
      "Epoch 38/300\n",
      "2/2 [==============================] - 0s 33ms/step - loss: 1.0273 - categorical_accuracy: 0.7083 - val_loss: 1.1482 - val_categorical_accuracy: 0.5833\n",
      "Epoch 39/300\n",
      "2/2 [==============================] - 0s 33ms/step - loss: 1.0041 - categorical_accuracy: 0.6667 - val_loss: 1.1436 - val_categorical_accuracy: 0.5833\n",
      "Epoch 40/300\n",
      "2/2 [==============================] - 0s 32ms/step - loss: 1.0088 - categorical_accuracy: 0.6042 - val_loss: 1.1098 - val_categorical_accuracy: 0.5833\n",
      "Epoch 41/300\n",
      "2/2 [==============================] - 0s 33ms/step - loss: 1.0112 - categorical_accuracy: 0.6042 - val_loss: 1.0645 - val_categorical_accuracy: 0.6667\n",
      "Epoch 42/300\n",
      "2/2 [==============================] - 0s 32ms/step - loss: 0.9298 - categorical_accuracy: 0.6667 - val_loss: 1.0363 - val_categorical_accuracy: 0.6667\n",
      "Epoch 43/300\n",
      "2/2 [==============================] - 0s 33ms/step - loss: 0.8780 - categorical_accuracy: 0.7083 - val_loss: 1.0575 - val_categorical_accuracy: 0.6667\n",
      "Epoch 44/300\n",
      "2/2 [==============================] - 0s 31ms/step - loss: 0.8711 - categorical_accuracy: 0.6875 - val_loss: 1.1251 - val_categorical_accuracy: 0.5000\n",
      "Epoch 45/300\n",
      "2/2 [==============================] - 0s 32ms/step - loss: 0.9520 - categorical_accuracy: 0.6458 - val_loss: 1.0714 - val_categorical_accuracy: 0.6667\n",
      "Epoch 46/300\n",
      "2/2 [==============================] - 0s 64ms/step - loss: 0.9245 - categorical_accuracy: 0.6875 - val_loss: 0.9583 - val_categorical_accuracy: 0.6667\n",
      "Epoch 47/300\n",
      "2/2 [==============================] - 0s 32ms/step - loss: 0.7999 - categorical_accuracy: 0.7292 - val_loss: 0.9200 - val_categorical_accuracy: 0.6667\n",
      "Epoch 48/300\n",
      "2/2 [==============================] - 0s 35ms/step - loss: 0.8164 - categorical_accuracy: 0.6667 - val_loss: 0.9238 - val_categorical_accuracy: 0.6667\n",
      "Epoch 49/300\n",
      "2/2 [==============================] - 0s 33ms/step - loss: 0.9364 - categorical_accuracy: 0.6667 - val_loss: 0.9668 - val_categorical_accuracy: 0.6667\n",
      "Epoch 50/300\n",
      "2/2 [==============================] - 0s 32ms/step - loss: 0.8379 - categorical_accuracy: 0.7292 - val_loss: 1.0352 - val_categorical_accuracy: 0.6667\n",
      "Epoch 51/300\n",
      "2/2 [==============================] - 0s 32ms/step - loss: 0.8185 - categorical_accuracy: 0.6875 - val_loss: 1.0157 - val_categorical_accuracy: 0.6667\n",
      "Epoch 52/300\n",
      "2/2 [==============================] - 0s 34ms/step - loss: 0.7868 - categorical_accuracy: 0.6875 - val_loss: 0.9077 - val_categorical_accuracy: 0.6667\n",
      "Epoch 53/300\n",
      "2/2 [==============================] - 0s 32ms/step - loss: 0.6857 - categorical_accuracy: 0.7500 - val_loss: 0.8771 - val_categorical_accuracy: 0.6667\n",
      "Epoch 54/300\n",
      "2/2 [==============================] - 0s 32ms/step - loss: 0.7948 - categorical_accuracy: 0.7083 - val_loss: 0.9014 - val_categorical_accuracy: 0.6667\n",
      "Epoch 55/300\n",
      "2/2 [==============================] - 0s 33ms/step - loss: 0.8130 - categorical_accuracy: 0.6042 - val_loss: 0.9998 - val_categorical_accuracy: 0.6667\n",
      "Epoch 56/300\n",
      "2/2 [==============================] - 0s 32ms/step - loss: 1.0483 - categorical_accuracy: 0.5417 - val_loss: 0.9096 - val_categorical_accuracy: 0.6667\n",
      "Epoch 57/300\n",
      "2/2 [==============================] - 0s 32ms/step - loss: 0.7037 - categorical_accuracy: 0.7083 - val_loss: 0.9347 - val_categorical_accuracy: 0.6667\n",
      "Epoch 58/300\n",
      "2/2 [==============================] - 0s 33ms/step - loss: 0.8851 - categorical_accuracy: 0.5833 - val_loss: 1.0220 - val_categorical_accuracy: 0.6667\n",
      "Epoch 59/300\n",
      "2/2 [==============================] - 0s 32ms/step - loss: 0.7566 - categorical_accuracy: 0.7083 - val_loss: 1.1146 - val_categorical_accuracy: 0.6667\n",
      "Epoch 60/300\n",
      "2/2 [==============================] - 0s 33ms/step - loss: 0.7982 - categorical_accuracy: 0.6250 - val_loss: 1.1351 - val_categorical_accuracy: 0.6667\n",
      "Epoch 61/300\n",
      "2/2 [==============================] - 0s 33ms/step - loss: 0.6802 - categorical_accuracy: 0.7083 - val_loss: 1.0070 - val_categorical_accuracy: 0.6667\n",
      "Epoch 62/300\n",
      "2/2 [==============================] - 0s 31ms/step - loss: 0.7399 - categorical_accuracy: 0.6667 - val_loss: 0.9630 - val_categorical_accuracy: 0.6667\n",
      "Epoch 63/300\n",
      "2/2 [==============================] - 0s 34ms/step - loss: 0.8753 - categorical_accuracy: 0.6250 - val_loss: 0.9301 - val_categorical_accuracy: 0.6667\n",
      "Epoch 64/300\n",
      "2/2 [==============================] - 0s 33ms/step - loss: 0.6920 - categorical_accuracy: 0.6667 - val_loss: 0.9365 - val_categorical_accuracy: 0.6667\n",
      "Epoch 65/300\n",
      "2/2 [==============================] - 0s 33ms/step - loss: 0.7345 - categorical_accuracy: 0.6667 - val_loss: 1.0024 - val_categorical_accuracy: 0.6667\n",
      "Epoch 66/300\n",
      "2/2 [==============================] - 0s 33ms/step - loss: 0.5771 - categorical_accuracy: 0.7708 - val_loss: 0.9875 - val_categorical_accuracy: 0.6667\n",
      "Epoch 67/300\n",
      "2/2 [==============================] - 0s 33ms/step - loss: 0.6997 - categorical_accuracy: 0.7708 - val_loss: 0.9589 - val_categorical_accuracy: 0.6667\n",
      "Epoch 68/300\n",
      "2/2 [==============================] - 0s 32ms/step - loss: 0.5836 - categorical_accuracy: 0.7292 - val_loss: 0.9021 - val_categorical_accuracy: 0.6667\n",
      "Epoch 68: early stopping\n"
     ]
    }
   ],
   "source": [
    "history = model.fit(X_train, y_train, validation_data=(X_test, y_test), epochs=300, callbacks=[tb_callback, early_stop_cb], batch_size=32, shuffle=True)"
   ]
  },
  {
   "cell_type": "code",
   "execution_count": 131,
   "metadata": {},
   "outputs": [
    {
     "data": {
      "image/png": "[encoded data removed]",
      "text/plain": [
       "<Figure size 640x480 with 1 Axes>"
      ]
     },
     "metadata": {},
     "output_type": "display_data"
    }
   ],
   "source": [
    "plt.plot(history.history['categorical_accuracy'])\n",
    "plt.plot(history.history['val_categorical_accuracy'])\n",
    "plt.title('model accuracy')\n",
    "plt.ylabel('accuracy')\n",
    "plt.xlabel('epoch')\n",
    "plt.legend(['train', 'val'], loc='upper left')\n",
    "plt.show()"
   ]
  },
  {
   "cell_type": "code",
   "execution_count": 132,
   "metadata": {},
   "outputs": [
    {
     "data": {
      "image/png": "[encoded data removed]",
      "text/plain": [
       "<Figure size 640x480 with 1 Axes>"
      ]
     },
     "metadata": {},
     "output_type": "display_data"
    }
   ],
   "source": [
    "plt.plot(history.history['loss'])\n",
    "plt.plot(history.history['val_loss'])\n",
    "plt.title('model loss')\n",
    "plt.ylabel('loss')\n",
    "plt.xlabel('epoch')\n",
    "plt.legend(['train', 'val'], loc='upper left')\n",
    "plt.show()"
   ]
  },
  {
   "cell_type": "code",
   "execution_count": 104,
   "metadata": {},
   "outputs": [],
   "source": [
    "model.save('../../data/action_model/v%s_temp.h5' % MODEL_VERSION)"
   ]
  }
 ],
 "metadata": {
  "kernelspec": {
   "display_name": "ml",
   "language": "python",
   "name": "python3"
  },
  "language_info": {
   "codemirror_mode": {
    "name": "ipython",
    "version": 3
   },
   "file_extension": ".py",
   "mimetype": "text/x-python",
   "name": "python",
   "nbconvert_exporter": "python",
   "pygments_lexer": "ipython3",
   "version": "3.9.0"
  }
 },
 "nbformat": 4,
 "nbformat_minor": 2
}
