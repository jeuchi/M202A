{
 "cells": [
  {
   "cell_type": "markdown",
   "id": "1e1596b1",
   "metadata": {},
   "source": [
    "# Training model"
   ]
  },
  {
   "cell_type": "code",
   "execution_count": 6,
   "metadata": {},
   "outputs": [],
   "source": [
    "import os.path\n",
    "import json\n",
    "import numpy as np\n",
    "import cv2\n",
    "from matplotlib import pyplot as plt\n"
   ]
  },
  {
   "cell_type": "code",
   "execution_count": null,
   "metadata": {},
   "outputs": [],
   "source": [
    "def print_image(xtl, ytl, xbr, ybr):\n",
    "    "
   ]
  },
  {
   "cell_type": "markdown",
   "metadata": {},
   "source": [
    "Extract features from video annotations"
   ]
  },
  {
   "cell_type": "code",
   "execution_count": 48,
   "metadata": {},
   "outputs": [
    {
     "name": "stdout",
     "output_type": "stream",
     "text": [
      "125401\n",
      "981 745 95 90\n",
      "(0,)\n"
     ]
    },
    {
     "ename": "SyntaxError",
     "evalue": "'return' outside function (3588736171.py, line 78)",
     "output_type": "error",
     "traceback": [
      "\u001b[1;36m  File \u001b[1;32m\"C:\\Users\\jeuch\\AppData\\Local\\Temp\\ipykernel_33224\\3588736171.py\"\u001b[1;36m, line \u001b[1;32m78\u001b[0m\n\u001b[1;33m    return 1\u001b[0m\n\u001b[1;37m            ^\u001b[0m\n\u001b[1;31mSyntaxError\u001b[0m\u001b[1;31m:\u001b[0m 'return' outside function\n"
     ]
    }
   ],
   "source": [
    "IMAGE_WIDTH = 1920\n",
    "IMAGE_HEIGHT = 1080\n",
    "\n",
    "features = []\n",
    "\n",
    "# Opening JSON file\n",
    "f = open('../out/default.json')\n",
    " \n",
    "# returns JSON object as \n",
    "# a dictionary\n",
    "data = json.load(f)\n",
    "\n",
    "out_dir = '../out1'\n",
    "if not os.path.exists(out_dir):\n",
    "    os.makedirs(out_dir)\n",
    "\n",
    "# Iterating through the json\n",
    "# list\n",
    "num_iter = 0\n",
    "for item in data['items']:\n",
    "    print(item['id'])\n",
    "    left_front_tire = -1\n",
    "    res=[]\n",
    "    label_file = open(os.path.join(out_dir, item['id'] + '.txt'), 'w')\n",
    "    xtl = int(item['annotations'][7]['bbox'][0])\n",
    "    ytl = int(item['annotations'][7]['bbox'][1])\n",
    "    xbr = int(item['annotations'][7]['bbox'][2])\n",
    "    ybr = int(item['annotations'][7]['bbox'][3])\n",
    "    w = xbr - xtl\n",
    "    h = ybr - ytl\n",
    "\n",
    "    print(xtl, ytl, xbr, ybr)\n",
    "    label_file.write('0 {} {} {} {} '.format(str((xtl + (w / 2)) / IMAGE_WIDTH), str((ytl + (h / 2)) / IMAGE_HEIGHT),\n",
    "                                            str(w / IMAGE_WIDTH), str(h / IMAGE_HEIGHT)))\n",
    "    \n",
    "    points = []\n",
    "    for i in range(0, 6):\n",
    "        px = int(item['annotations'][i]['points'][0])\n",
    "        py = int(item['annotations'][i]['points'][1])\n",
    "        visible = 0 if item['annotations'][i]['attributes']['occluded'] == True else 2\n",
    "        points.append([px, py, visible])\n",
    "\n",
    "    for p_, (px, py, visible) in enumerate(points):\n",
    "        label_file.write('{} {} {}'.format(px / IMAGE_WIDTH, py / IMAGE_HEIGHT, visible))\n",
    "        if p_ < len(points) - 1:\n",
    "            label_file.write(' ')\n",
    "        else:\n",
    "            label_file.write('\\n')\n",
    "\n",
    "    #img = cv2.imread('../out/%s.png' % item['id'])\n",
    "    #cv2.rectangle(img, (xtl, ytl), (xtl+xbr, ytl+ybr), [0,0,255], 1)\n",
    "    #cv2.circle(img,(w, h), 1, [255,0,0], -1)\n",
    "    #cv2.imshow('Image', img) \n",
    "    #cv2.waitKey(0) \n",
    "    #cv2.destroyAllWindows() \n",
    "    label_file.close()\n",
    "    break\n",
    "    '''\n",
    "    for annotation in item['annotations']:\n",
    "        print(annotation)\n",
    "        if 'points' in annotation:\n",
    "            res1 = (int(annotation['points'][0]), int(annotation['points'][1]), (not annotation['attributes']['occluded'])*1)\n",
    "        elif 'bbox' in annotation:\n",
    "            res1 = (int(annotation['bbox'][0]), int(annotation['bbox'][1]), int(annotation['bbox'][2]),  int(annotation['bbox'][3]))\n",
    "        res.append(res1)\n",
    "        features.append(res)\n",
    "    features.append({'path': '../out/%s.png' % item['id'], 'landmarks': res})\n",
    "    print(\"===\")\n",
    "    num_iter += 1\n",
    "    if num_iter > 0:\n",
    "        break\n",
    "    '''\n",
    "\n",
    "# Closing file\n",
    "f.close()\n",
    "features = np.array(features)\n",
    "print(features.shape)\n",
    "return 1\n",
    "#print(features[0][1])\n",
    "for frame in features:\n",
    "    img = cv2.imread(frame['path'])\n",
    "    ft_x,ft_y,ft_visible = frame['landmarks'][0]\n",
    "    ftr_x,ftr_y,ftr_visible = frame['landmarks'][3]\n",
    "    cv2.circle(img, (ft_x, ft_y), 1, [0,0,255], -1)\n",
    "    cv2.circle(img, (ftr_x, ftr_y), 1, [0,0,255], -1)\n",
    "\n",
    "    cv2.imshow('Image', img) \n",
    "    cv2.waitKey(0) \n",
    "    cv2.destroyAllWindows() "
   ]
  }
 ],
 "metadata": {
  "kernelspec": {
   "display_name": "Python 3 (ipykernel)",
   "language": "python",
   "name": "python3"
  },
  "language_info": {
   "codemirror_mode": {
    "name": "ipython",
    "version": 3
   },
   "file_extension": ".py",
   "mimetype": "text/x-python",
   "name": "python",
   "nbconvert_exporter": "python",
   "pygments_lexer": "ipython3",
   "version": "3.7.9"
  }
 },
 "nbformat": 4,
 "nbformat_minor": 5
}
